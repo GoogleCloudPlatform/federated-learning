{
 "cells": [
  {
   "cell_type": "code",
   "execution_count": 11,
   "id": "63c36362-67d6-4389-931d-de8e22d7ce4a",
   "metadata": {
    "tags": []
   },
   "outputs": [],
   "source": [
    "# import necessary libs\n",
    "import tensorflow as tf\n",
    "import tensorflow_federated as tff\n",
    "import numpy as np"
   ]
  },
  {
   "cell_type": "code",
   "execution_count": 12,
   "id": "5598e075-034d-4173-b99f-e3916fed3331",
   "metadata": {
    "tags": []
   },
   "outputs": [],
   "source": [
    "# Load the EMNIST dataset provided by TFF\n",
    "emnist_train, emnist_test = tff.simulation.datasets.emnist.load_data()"
   ]
  },
  {
   "cell_type": "code",
   "execution_count": 13,
   "id": "450539c2-8078-49ca-8cd5-288b6d6f8101",
   "metadata": {
    "tags": []
   },
   "outputs": [],
   "source": [
    "# Preprocess the data\n",
    "NUM_CLIENTS = 10  # You can increase the number of clients\n"
   ]
  },
  {
   "cell_type": "code",
   "execution_count": 14,
   "id": "dbd88bc1-c3fa-4084-8a16-88a0065bc622",
   "metadata": {
    "tags": []
   },
   "outputs": [],
   "source": [
    "def preprocess(dataset):\n",
    "    def batch_format_fn(element):\n",
    "        return (tf.reshape(element['pixels'], [28, 28, 1]), element['label'])\n",
    "    return dataset.map(batch_format_fn).batch(20).prefetch(10)\n"
   ]
  },
  {
   "cell_type": "code",
   "execution_count": 15,
   "id": "ef3625a5-0d3e-4c9b-a107-048cf0321df5",
   "metadata": {
    "tags": []
   },
   "outputs": [],
   "source": [
    "# Select a subset of clients\n",
    "client_ids = np.random.choice(emnist_train.client_ids, size=NUM_CLIENTS, replace=False)\n",
    "federated_train_data = [preprocess(emnist_train.create_tf_dataset_for_client(x)) for x in client_ids]\n"
   ]
  },
  {
   "cell_type": "code",
   "execution_count": 16,
   "id": "64e2ef69-77c8-41a2-bf6e-a1a72b3e235b",
   "metadata": {
    "tags": []
   },
   "outputs": [],
   "source": [
    "# Define the model\n",
    "def create_keras_model():\n",
    "    return tf.keras.models.Sequential([\n",
    "        tf.keras.layers.Input(shape=(28, 28, 1)),\n",
    "        tf.keras.layers.Conv2D(32, (3, 3), activation='relu'),\n",
    "        tf.keras.layers.MaxPooling2D((2, 2)),\n",
    "        tf.keras.layers.Flatten(),\n",
    "        tf.keras.layers.Dense(128, activation='relu'),\n",
    "        tf.keras.layers.Dense(10, activation='softmax')\n",
    "    ])\n"
   ]
  },
  {
   "cell_type": "code",
   "execution_count": 17,
   "id": "5c8156b1-b2e3-44f1-a666-786cd937e2c3",
   "metadata": {
    "tags": []
   },
   "outputs": [],
   "source": [
    "# Wrap the Keras model for use in TFF\n",
    "def model_fn():\n",
    "    keras_model = create_keras_model()\n",
    "    return tff.learning.models.from_keras_model(\n",
    "        keras_model,\n",
    "        input_spec=(tf.TensorSpec(shape=[None, 28, 28, 1], dtype=tf.float32),\n",
    "                    tf.TensorSpec(shape=[None], dtype=tf.int32)),\n",
    "        loss=tf.keras.losses.SparseCategoricalCrossentropy(),\n",
    "        metrics=[tf.keras.metrics.SparseCategoricalAccuracy()]\n",
    "    )\n"
   ]
  },
  {
   "cell_type": "code",
   "execution_count": 18,
   "id": "28023662-4afd-49b8-9fa4-a603678ec17f",
   "metadata": {
    "tags": []
   },
   "outputs": [],
   "source": [
    "# Define a federated computation for training\n",
    "iterative_process = tff.learning.algorithms.build_weighted_fed_avg(\n",
    "    model_fn=model_fn,\n",
    "    client_optimizer_fn=lambda: tf.keras.optimizers.SGD(learning_rate=0.01)\n",
    ")"
   ]
  },
  {
   "cell_type": "code",
   "execution_count": 19,
   "id": "363b43bb-6fd5-4e32-9bf6-9941c2f710d5",
   "metadata": {
    "tags": []
   },
   "outputs": [
    {
     "name": "stderr",
     "output_type": "stream",
     "text": [
      "2024-05-16 11:47:55.643465: I tensorflow/core/grappler/devices.cc:66] Number of eligible GPUs (core count >= 8, compute capability >= 0.0): 1\n",
      "2024-05-16 11:47:55.643586: I tensorflow/core/grappler/clusters/single_machine.cc:361] Starting new session\n",
      "2024-05-16 11:47:55.650740: I tensorflow/core/common_runtime/gpu/gpu_device.cc:1886] Created device /job:localhost/replica:0/task:0/device:GPU:0 with 32 MB memory:  -> device: 0, name: NVIDIA L4, pci bus id: 0000:00:03.0, compute capability: 8.9\n",
      "2024-05-16 11:47:55.675774: I tensorflow/core/grappler/devices.cc:66] Number of eligible GPUs (core count >= 8, compute capability >= 0.0): 1\n",
      "2024-05-16 11:47:55.675853: I tensorflow/core/grappler/clusters/single_machine.cc:361] Starting new session\n",
      "2024-05-16 11:47:55.682663: I tensorflow/core/common_runtime/gpu/gpu_device.cc:1886] Created device /job:localhost/replica:0/task:0/device:GPU:0 with 32 MB memory:  -> device: 0, name: NVIDIA L4, pci bus id: 0000:00:03.0, compute capability: 8.9\n",
      "2024-05-16 11:47:56.011903: I tensorflow/core/grappler/devices.cc:66] Number of eligible GPUs (core count >= 8, compute capability >= 0.0): 1\n",
      "2024-05-16 11:47:56.012005: I tensorflow/core/grappler/clusters/single_machine.cc:361] Starting new session\n",
      "2024-05-16 11:47:56.018894: I tensorflow/core/common_runtime/gpu/gpu_device.cc:1886] Created device /job:localhost/replica:0/task:0/device:GPU:0 with 32 MB memory:  -> device: 0, name: NVIDIA L4, pci bus id: 0000:00:03.0, compute capability: 8.9\n",
      "2024-05-16 11:47:56.172975: I tensorflow/core/grappler/devices.cc:66] Number of eligible GPUs (core count >= 8, compute capability >= 0.0): 1\n",
      "2024-05-16 11:47:56.173073: I tensorflow/core/grappler/clusters/single_machine.cc:361] Starting new session\n",
      "2024-05-16 11:47:56.179891: I tensorflow/core/common_runtime/gpu/gpu_device.cc:1886] Created device /job:localhost/replica:0/task:0/device:GPU:0 with 32 MB memory:  -> device: 0, name: NVIDIA L4, pci bus id: 0000:00:03.0, compute capability: 8.9\n",
      "2024-05-16 11:47:56.191052: I tensorflow/core/grappler/devices.cc:66] Number of eligible GPUs (core count >= 8, compute capability >= 0.0): 1\n",
      "2024-05-16 11:47:56.191134: I tensorflow/core/grappler/clusters/single_machine.cc:361] Starting new session\n",
      "2024-05-16 11:47:56.205783: I tensorflow/core/common_runtime/gpu/gpu_device.cc:1886] Created device /job:localhost/replica:0/task:0/device:GPU:0 with 32 MB memory:  -> device: 0, name: NVIDIA L4, pci bus id: 0000:00:03.0, compute capability: 8.9\n",
      "2024-05-16 11:47:56.219895: I tensorflow/core/grappler/devices.cc:66] Number of eligible GPUs (core count >= 8, compute capability >= 0.0): 1\n",
      "2024-05-16 11:47:56.219973: I tensorflow/core/grappler/clusters/single_machine.cc:361] Starting new session\n",
      "2024-05-16 11:47:56.226527: I tensorflow/core/common_runtime/gpu/gpu_device.cc:1886] Created device /job:localhost/replica:0/task:0/device:GPU:0 with 32 MB memory:  -> device: 0, name: NVIDIA L4, pci bus id: 0000:00:03.0, compute capability: 8.9\n",
      "2024-05-16 11:47:56.243694: I tensorflow/core/grappler/devices.cc:66] Number of eligible GPUs (core count >= 8, compute capability >= 0.0): 1\n",
      "2024-05-16 11:47:56.243765: I tensorflow/core/grappler/clusters/single_machine.cc:361] Starting new session\n",
      "2024-05-16 11:47:56.250801: I tensorflow/core/common_runtime/gpu/gpu_device.cc:1886] Created device /job:localhost/replica:0/task:0/device:GPU:0 with 32 MB memory:  -> device: 0, name: NVIDIA L4, pci bus id: 0000:00:03.0, compute capability: 8.9\n",
      "2024-05-16 11:47:56.273946: I tensorflow/core/grappler/devices.cc:66] Number of eligible GPUs (core count >= 8, compute capability >= 0.0): 1\n",
      "2024-05-16 11:47:56.274025: I tensorflow/core/grappler/clusters/single_machine.cc:361] Starting new session\n",
      "2024-05-16 11:47:56.280668: I tensorflow/core/common_runtime/gpu/gpu_device.cc:1886] Created device /job:localhost/replica:0/task:0/device:GPU:0 with 32 MB memory:  -> device: 0, name: NVIDIA L4, pci bus id: 0000:00:03.0, compute capability: 8.9\n",
      "2024-05-16 11:47:56.293766: I tensorflow/core/grappler/devices.cc:66] Number of eligible GPUs (core count >= 8, compute capability >= 0.0): 1\n",
      "2024-05-16 11:47:56.293845: I tensorflow/core/grappler/clusters/single_machine.cc:361] Starting new session\n",
      "2024-05-16 11:47:56.300262: I tensorflow/core/common_runtime/gpu/gpu_device.cc:1886] Created device /job:localhost/replica:0/task:0/device:GPU:0 with 32 MB memory:  -> device: 0, name: NVIDIA L4, pci bus id: 0000:00:03.0, compute capability: 8.9\n",
      "2024-05-16 11:47:56.313527: I tensorflow/core/grappler/devices.cc:66] Number of eligible GPUs (core count >= 8, compute capability >= 0.0): 1\n",
      "2024-05-16 11:47:56.313605: I tensorflow/core/grappler/clusters/single_machine.cc:361] Starting new session\n",
      "2024-05-16 11:47:56.319991: I tensorflow/core/common_runtime/gpu/gpu_device.cc:1886] Created device /job:localhost/replica:0/task:0/device:GPU:0 with 32 MB memory:  -> device: 0, name: NVIDIA L4, pci bus id: 0000:00:03.0, compute capability: 8.9\n",
      "2024-05-16 11:47:56.335780: I tensorflow/core/grappler/devices.cc:66] Number of eligible GPUs (core count >= 8, compute capability >= 0.0): 1\n",
      "2024-05-16 11:47:56.335856: I tensorflow/core/grappler/clusters/single_machine.cc:361] Starting new session\n",
      "2024-05-16 11:47:56.342647: I tensorflow/core/common_runtime/gpu/gpu_device.cc:1886] Created device /job:localhost/replica:0/task:0/device:GPU:0 with 32 MB memory:  -> device: 0, name: NVIDIA L4, pci bus id: 0000:00:03.0, compute capability: 8.9\n",
      "2024-05-16 11:47:56.356323: I tensorflow/core/grappler/devices.cc:66] Number of eligible GPUs (core count >= 8, compute capability >= 0.0): 1\n",
      "2024-05-16 11:47:56.356393: I tensorflow/core/grappler/clusters/single_machine.cc:361] Starting new session\n",
      "2024-05-16 11:47:56.362964: I tensorflow/core/common_runtime/gpu/gpu_device.cc:1886] Created device /job:localhost/replica:0/task:0/device:GPU:0 with 32 MB memory:  -> device: 0, name: NVIDIA L4, pci bus id: 0000:00:03.0, compute capability: 8.9\n",
      "2024-05-16 11:47:56.368948: I tensorflow/core/grappler/devices.cc:66] Number of eligible GPUs (core count >= 8, compute capability >= 0.0): 1\n",
      "2024-05-16 11:47:56.369025: I tensorflow/core/grappler/clusters/single_machine.cc:361] Starting new session\n",
      "2024-05-16 11:47:56.375409: I tensorflow/core/common_runtime/gpu/gpu_device.cc:1886] Created device /job:localhost/replica:0/task:0/device:GPU:0 with 32 MB memory:  -> device: 0, name: NVIDIA L4, pci bus id: 0000:00:03.0, compute capability: 8.9\n",
      "2024-05-16 11:47:56.383097: I tensorflow/core/grappler/devices.cc:66] Number of eligible GPUs (core count >= 8, compute capability >= 0.0): 1\n",
      "2024-05-16 11:47:56.383177: I tensorflow/core/grappler/clusters/single_machine.cc:361] Starting new session\n",
      "2024-05-16 11:47:56.389975: I tensorflow/core/common_runtime/gpu/gpu_device.cc:1886] Created device /job:localhost/replica:0/task:0/device:GPU:0 with 32 MB memory:  -> device: 0, name: NVIDIA L4, pci bus id: 0000:00:03.0, compute capability: 8.9\n",
      "2024-05-16 11:47:56.400003: I tensorflow/core/grappler/devices.cc:66] Number of eligible GPUs (core count >= 8, compute capability >= 0.0): 1\n",
      "2024-05-16 11:47:56.400083: I tensorflow/core/grappler/clusters/single_machine.cc:361] Starting new session\n",
      "2024-05-16 11:47:56.406677: I tensorflow/core/common_runtime/gpu/gpu_device.cc:1886] Created device /job:localhost/replica:0/task:0/device:GPU:0 with 32 MB memory:  -> device: 0, name: NVIDIA L4, pci bus id: 0000:00:03.0, compute capability: 8.9\n",
      "2024-05-16 11:47:56.422934: I tensorflow/core/grappler/devices.cc:66] Number of eligible GPUs (core count >= 8, compute capability >= 0.0): 1\n",
      "2024-05-16 11:47:56.423011: I tensorflow/core/grappler/clusters/single_machine.cc:361] Starting new session\n",
      "2024-05-16 11:47:56.429800: I tensorflow/core/common_runtime/gpu/gpu_device.cc:1886] Created device /job:localhost/replica:0/task:0/device:GPU:0 with 32 MB memory:  -> device: 0, name: NVIDIA L4, pci bus id: 0000:00:03.0, compute capability: 8.9\n"
     ]
    },
    {
     "name": "stdout",
     "output_type": "stream",
     "text": [
      "Round 1, Metrics: OrderedDict([('distributor', ()), ('client_work', OrderedDict([('train', OrderedDict([('sparse_categorical_accuracy', 0.06432161), ('loss', 2.4024725), ('num_examples', 995), ('num_batches', 54)]))])), ('aggregator', OrderedDict([('mean_value', ()), ('mean_weight', ())])), ('finalizer', OrderedDict([('update_non_finite', 0)]))])\n",
      "Round 2, Metrics: OrderedDict([('distributor', ()), ('client_work', OrderedDict([('train', OrderedDict([('sparse_categorical_accuracy', 0.061306532), ('loss', 2.3603761), ('num_examples', 995), ('num_batches', 54)]))])), ('aggregator', OrderedDict([('mean_value', ()), ('mean_weight', ())])), ('finalizer', OrderedDict([('update_non_finite', 0)]))])\n",
      "Round 3, Metrics: OrderedDict([('distributor', ()), ('client_work', OrderedDict([('train', OrderedDict([('sparse_categorical_accuracy', 0.067336686), ('loss', 2.3463943), ('num_examples', 995), ('num_batches', 54)]))])), ('aggregator', OrderedDict([('mean_value', ()), ('mean_weight', ())])), ('finalizer', OrderedDict([('update_non_finite', 0)]))])\n",
      "Round 4, Metrics: OrderedDict([('distributor', ()), ('client_work', OrderedDict([('train', OrderedDict([('sparse_categorical_accuracy', 0.061306532), ('loss', 2.3401873), ('num_examples', 995), ('num_batches', 54)]))])), ('aggregator', OrderedDict([('mean_value', ()), ('mean_weight', ())])), ('finalizer', OrderedDict([('update_non_finite', 0)]))])\n",
      "Round 5, Metrics: OrderedDict([('distributor', ()), ('client_work', OrderedDict([('train', OrderedDict([('sparse_categorical_accuracy', 0.067336686), ('loss', 2.3341749), ('num_examples', 995), ('num_batches', 54)]))])), ('aggregator', OrderedDict([('mean_value', ()), ('mean_weight', ())])), ('finalizer', OrderedDict([('update_non_finite', 0)]))])\n",
      "Round 6, Metrics: OrderedDict([('distributor', ()), ('client_work', OrderedDict([('train', OrderedDict([('sparse_categorical_accuracy', 0.061306532), ('loss', 2.332051), ('num_examples', 995), ('num_batches', 54)]))])), ('aggregator', OrderedDict([('mean_value', ()), ('mean_weight', ())])), ('finalizer', OrderedDict([('update_non_finite', 0)]))])\n",
      "Round 7, Metrics: OrderedDict([('distributor', ()), ('client_work', OrderedDict([('train', OrderedDict([('sparse_categorical_accuracy', 0.067336686), ('loss', 2.3284302), ('num_examples', 995), ('num_batches', 54)]))])), ('aggregator', OrderedDict([('mean_value', ()), ('mean_weight', ())])), ('finalizer', OrderedDict([('update_non_finite', 0)]))])\n",
      "Round 8, Metrics: OrderedDict([('distributor', ()), ('client_work', OrderedDict([('train', OrderedDict([('sparse_categorical_accuracy', 0.06532663), ('loss', 2.3259459), ('num_examples', 995), ('num_batches', 54)]))])), ('aggregator', OrderedDict([('mean_value', ()), ('mean_weight', ())])), ('finalizer', OrderedDict([('update_non_finite', 0)]))])\n",
      "Round 9, Metrics: OrderedDict([('distributor', ()), ('client_work', OrderedDict([('train', OrderedDict([('sparse_categorical_accuracy', 0.06934673), ('loss', 2.3242152), ('num_examples', 995), ('num_batches', 54)]))])), ('aggregator', OrderedDict([('mean_value', ()), ('mean_weight', ())])), ('finalizer', OrderedDict([('update_non_finite', 0)]))])\n",
      "Round 10, Metrics: OrderedDict([('distributor', ()), ('client_work', OrderedDict([('train', OrderedDict([('sparse_categorical_accuracy', 0.066331655), ('loss', 2.322299), ('num_examples', 995), ('num_batches', 54)]))])), ('aggregator', OrderedDict([('mean_value', ()), ('mean_weight', ())])), ('finalizer', OrderedDict([('update_non_finite', 0)]))])\n"
     ]
    }
   ],
   "source": [
    "# Initialize the process\n",
    "state = iterative_process.initialize()\n",
    "\n",
    "# Perform federated training\n",
    "NUM_ROUNDS = 10\n",
    "for round_num in range(NUM_ROUNDS):\n",
    "    state, metrics = iterative_process.next(state, federated_train_data)\n",
    "    print(f'Round {round_num+1}, Metrics: {metrics}')\n"
   ]
  },
  {
   "cell_type": "code",
   "execution_count": 20,
   "id": "23764ff2-5ff8-4588-ba8f-9897ca95af7d",
   "metadata": {
    "tags": []
   },
   "outputs": [
    {
     "name": "stdout",
     "output_type": "stream",
     "text": [
      "WARNING:tensorflow:Compiled the loaded model, but the compiled metrics have yet to be built. `model.compile_metrics` will be empty until you train or evaluate the model.\n"
     ]
    },
    {
     "name": "stderr",
     "output_type": "stream",
     "text": [
      "WARNING:tensorflow:Compiled the loaded model, but the compiled metrics have yet to be built. `model.compile_metrics` will be empty until you train or evaluate the model.\n"
     ]
    },
    {
     "name": "stdout",
     "output_type": "stream",
     "text": [
      "Model saved as federated_model_emnist.h5\n"
     ]
    }
   ],
   "source": [
    "# Extract the trained model weights\n",
    "trained_weights = iterative_process.get_model_weights(state)\n",
    "\n",
    "# Save the trained model weights on the coordinator\n",
    "keras_model = create_keras_model()\n",
    "keras_model.set_weights(trained_weights.trainable)\n",
    "keras_model.save('federated_model_emnist.h5')\n",
    "print(\"Model saved as federated_model_emnist.h5\")"
   ]
  },
  {
   "cell_type": "code",
   "execution_count": null,
   "id": "3faae888-8397-40d4-b5fd-75cc8c19f01f",
   "metadata": {},
   "outputs": [],
   "source": []
  }
 ],
 "metadata": {
  "environment": {
   "kernel": "conda-base-py",
   "name": "workbench-notebooks.m120",
   "type": "gcloud",
   "uri": "us-docker.pkg.dev/deeplearning-platform-release/gcr.io/workbench-notebooks:m120"
  },
  "kernelspec": {
   "display_name": "Python 3 (ipykernel)",
   "language": "python",
   "name": "conda-base-py"
  },
  "language_info": {
   "codemirror_mode": {
    "name": "ipython",
    "version": 3
   },
   "file_extension": ".py",
   "mimetype": "text/x-python",
   "name": "python",
   "nbconvert_exporter": "python",
   "pygments_lexer": "ipython3",
   "version": "3.10.14"
  }
 },
 "nbformat": 4,
 "nbformat_minor": 5
}
