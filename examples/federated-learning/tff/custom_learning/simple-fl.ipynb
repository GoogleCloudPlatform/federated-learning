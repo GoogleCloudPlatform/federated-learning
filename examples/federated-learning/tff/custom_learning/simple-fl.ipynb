{
 "cells": [
  {
   "cell_type": "code",
   "execution_count": 16,
   "id": "e903b859-3327-4338-a3c4-95b67ccf2824",
   "metadata": {
    "tags": []
   },
   "outputs": [],
   "source": [
    "import tensorflow as tf\n",
    "import tensorflow_federated as tff\n",
    "import numpy as np"
   ]
  },
  {
   "cell_type": "code",
   "execution_count": 17,
   "id": "932ac405-bb36-49fb-ba99-508eb2b2789e",
   "metadata": {
    "tags": []
   },
   "outputs": [],
   "source": [
    "# Define the model\n",
    "def create_keras_model():\n",
    "    return tf.keras.models.Sequential([\n",
    "        tf.keras.layers.Input(shape=(2,)),\n",
    "        tf.keras.layers.Dense(10, activation='relu'),\n",
    "        tf.keras.layers.Dense(1, activation='sigmoid')\n",
    "    ])"
   ]
  },
  {
   "cell_type": "code",
   "execution_count": 18,
   "id": "8274f214-a81e-4b90-9712-89e591f33e24",
   "metadata": {
    "tags": []
   },
   "outputs": [],
   "source": [
    "# Wrap the Keras model for use in TFF\n",
    "def model_fn():\n",
    "    keras_model = create_keras_model()\n",
    "    return tff.learning.models.from_keras_model(\n",
    "        keras_model,\n",
    "        input_spec=(tf.TensorSpec(shape=[None, 2], dtype=tf.float32),\n",
    "                    tf.TensorSpec(shape=[None, 1], dtype=tf.float32)),\n",
    "        loss=tf.keras.losses.BinaryCrossentropy(),\n",
    "        metrics=[tf.keras.metrics.BinaryAccuracy()]\n",
    "    )"
   ]
  },
  {
   "cell_type": "code",
   "execution_count": 19,
   "id": "3033b5f6-30b8-4229-ba46-f1b16444742c",
   "metadata": {
    "tags": []
   },
   "outputs": [],
   "source": [
    "# Create synthetic data for two clients\n",
    "client1_data = {\n",
    "    'x': np.array([[0.1, 0.2], [0.4, 0.6], [0.7, 0.8]], dtype=np.float32),\n",
    "    'y': np.array([[0], [1], [1]], dtype=np.float32)\n",
    "}\n",
    "\n",
    "client2_data = {\n",
    "    'x': np.array([[0.2, 0.3], [0.5, 0.7], [0.8, 0.9]], dtype=np.float32),\n",
    "    'y': np.array([[0], [1], [1]], dtype=np.float32)\n",
    "}\n",
    "\n",
    "client3_data = {\n",
    "    'x': np.array([[0.3, 0.4], [0.6, 0.8], [1.0, 1.2]], dtype=np.float32),\n",
    "    'y': np.array([[0], [1], [1]], dtype=np.float32)\n",
    "}"
   ]
  },
  {
   "cell_type": "code",
   "execution_count": 20,
   "id": "6d060c2a-cbfb-4c88-aa06-7e835073dfe8",
   "metadata": {
    "tags": []
   },
   "outputs": [],
   "source": [
    "# Convert client data to TFF datasets\n",
    "def create_tf_dataset_for_client(client_data):\n",
    "    return tf.data.Dataset.from_tensor_slices((client_data['x'], client_data['y'])).batch(2)\n",
    "\n",
    "federated_train_data = [\n",
    "    create_tf_dataset_for_client(client1_data),\n",
    "    create_tf_dataset_for_client(client2_data)\n",
    "]"
   ]
  },
  {
   "cell_type": "code",
   "execution_count": 21,
   "id": "4ba12fb5-1d07-4b30-b19b-1883ffdabec3",
   "metadata": {
    "tags": []
   },
   "outputs": [],
   "source": [
    "# Define a federated computation for training\n",
    "iterative_process = tff.learning.algorithms.build_weighted_fed_avg(\n",
    "    model_fn=model_fn,\n",
    "    client_optimizer_fn=lambda: tf.keras.optimizers.SGD(learning_rate=0.01)\n",
    ")"
   ]
  },
  {
   "cell_type": "code",
   "execution_count": 22,
   "id": "137b4c3a-9d2b-4c5f-a676-c33757f31602",
   "metadata": {
    "tags": []
   },
   "outputs": [
    {
     "name": "stderr",
     "output_type": "stream",
     "text": [
      "2024-05-16 12:15:48.657247: I tensorflow/core/grappler/devices.cc:66] Number of eligible GPUs (core count >= 8, compute capability >= 0.0): 1\n",
      "2024-05-16 12:15:48.657434: I tensorflow/core/grappler/clusters/single_machine.cc:361] Starting new session\n",
      "2024-05-16 12:15:48.665059: I tensorflow/core/common_runtime/gpu/gpu_device.cc:1886] Created device /job:localhost/replica:0/task:0/device:GPU:0 with 1118 MB memory:  -> device: 0, name: NVIDIA L4, pci bus id: 0000:00:03.0, compute capability: 8.9\n",
      "2024-05-16 12:15:48.685301: I tensorflow/core/grappler/devices.cc:66] Number of eligible GPUs (core count >= 8, compute capability >= 0.0): 1\n",
      "2024-05-16 12:15:48.685381: I tensorflow/core/grappler/clusters/single_machine.cc:361] Starting new session\n",
      "2024-05-16 12:15:48.693082: I tensorflow/core/common_runtime/gpu/gpu_device.cc:1886] Created device /job:localhost/replica:0/task:0/device:GPU:0 with 1118 MB memory:  -> device: 0, name: NVIDIA L4, pci bus id: 0000:00:03.0, compute capability: 8.9\n",
      "2024-05-16 12:15:48.964778: I tensorflow/core/grappler/devices.cc:66] Number of eligible GPUs (core count >= 8, compute capability >= 0.0): 1\n",
      "2024-05-16 12:15:48.964892: I tensorflow/core/grappler/clusters/single_machine.cc:361] Starting new session\n",
      "2024-05-16 12:15:48.971718: I tensorflow/core/common_runtime/gpu/gpu_device.cc:1886] Created device /job:localhost/replica:0/task:0/device:GPU:0 with 1118 MB memory:  -> device: 0, name: NVIDIA L4, pci bus id: 0000:00:03.0, compute capability: 8.9\n",
      "2024-05-16 12:15:49.098223: I tensorflow/core/grappler/devices.cc:66] Number of eligible GPUs (core count >= 8, compute capability >= 0.0): 1\n",
      "2024-05-16 12:15:49.098313: I tensorflow/core/grappler/clusters/single_machine.cc:361] Starting new session\n",
      "2024-05-16 12:15:49.105282: I tensorflow/core/common_runtime/gpu/gpu_device.cc:1886] Created device /job:localhost/replica:0/task:0/device:GPU:0 with 1118 MB memory:  -> device: 0, name: NVIDIA L4, pci bus id: 0000:00:03.0, compute capability: 8.9\n",
      "2024-05-16 12:15:49.115540: I tensorflow/core/grappler/devices.cc:66] Number of eligible GPUs (core count >= 8, compute capability >= 0.0): 1\n",
      "2024-05-16 12:15:49.115617: I tensorflow/core/grappler/clusters/single_machine.cc:361] Starting new session\n",
      "2024-05-16 12:15:49.122553: I tensorflow/core/common_runtime/gpu/gpu_device.cc:1886] Created device /job:localhost/replica:0/task:0/device:GPU:0 with 1118 MB memory:  -> device: 0, name: NVIDIA L4, pci bus id: 0000:00:03.0, compute capability: 8.9\n",
      "2024-05-16 12:15:49.135817: I tensorflow/core/grappler/devices.cc:66] Number of eligible GPUs (core count >= 8, compute capability >= 0.0): 1\n",
      "2024-05-16 12:15:49.135898: I tensorflow/core/grappler/clusters/single_machine.cc:361] Starting new session\n",
      "2024-05-16 12:15:49.142332: I tensorflow/core/common_runtime/gpu/gpu_device.cc:1886] Created device /job:localhost/replica:0/task:0/device:GPU:0 with 1118 MB memory:  -> device: 0, name: NVIDIA L4, pci bus id: 0000:00:03.0, compute capability: 8.9\n",
      "2024-05-16 12:15:49.157729: I tensorflow/core/grappler/devices.cc:66] Number of eligible GPUs (core count >= 8, compute capability >= 0.0): 1\n",
      "2024-05-16 12:15:49.157803: I tensorflow/core/grappler/clusters/single_machine.cc:361] Starting new session\n",
      "2024-05-16 12:15:49.164334: I tensorflow/core/common_runtime/gpu/gpu_device.cc:1886] Created device /job:localhost/replica:0/task:0/device:GPU:0 with 1118 MB memory:  -> device: 0, name: NVIDIA L4, pci bus id: 0000:00:03.0, compute capability: 8.9\n",
      "2024-05-16 12:15:49.187745: I tensorflow/core/grappler/devices.cc:66] Number of eligible GPUs (core count >= 8, compute capability >= 0.0): 1\n",
      "2024-05-16 12:15:49.187821: I tensorflow/core/grappler/clusters/single_machine.cc:361] Starting new session\n",
      "2024-05-16 12:15:49.194403: I tensorflow/core/common_runtime/gpu/gpu_device.cc:1886] Created device /job:localhost/replica:0/task:0/device:GPU:0 with 1118 MB memory:  -> device: 0, name: NVIDIA L4, pci bus id: 0000:00:03.0, compute capability: 8.9\n",
      "2024-05-16 12:15:49.204760: I tensorflow/core/grappler/devices.cc:66] Number of eligible GPUs (core count >= 8, compute capability >= 0.0): 1\n",
      "2024-05-16 12:15:49.204840: I tensorflow/core/grappler/clusters/single_machine.cc:361] Starting new session\n",
      "2024-05-16 12:15:49.211160: I tensorflow/core/common_runtime/gpu/gpu_device.cc:1886] Created device /job:localhost/replica:0/task:0/device:GPU:0 with 1118 MB memory:  -> device: 0, name: NVIDIA L4, pci bus id: 0000:00:03.0, compute capability: 8.9\n",
      "2024-05-16 12:15:49.221254: I tensorflow/core/grappler/devices.cc:66] Number of eligible GPUs (core count >= 8, compute capability >= 0.0): 1\n",
      "2024-05-16 12:15:49.221346: I tensorflow/core/grappler/clusters/single_machine.cc:361] Starting new session\n",
      "2024-05-16 12:15:49.227690: I tensorflow/core/common_runtime/gpu/gpu_device.cc:1886] Created device /job:localhost/replica:0/task:0/device:GPU:0 with 1118 MB memory:  -> device: 0, name: NVIDIA L4, pci bus id: 0000:00:03.0, compute capability: 8.9\n",
      "2024-05-16 12:15:49.238461: I tensorflow/core/grappler/devices.cc:66] Number of eligible GPUs (core count >= 8, compute capability >= 0.0): 1\n",
      "2024-05-16 12:15:49.238532: I tensorflow/core/grappler/clusters/single_machine.cc:361] Starting new session\n",
      "2024-05-16 12:15:49.245050: I tensorflow/core/common_runtime/gpu/gpu_device.cc:1886] Created device /job:localhost/replica:0/task:0/device:GPU:0 with 1118 MB memory:  -> device: 0, name: NVIDIA L4, pci bus id: 0000:00:03.0, compute capability: 8.9\n",
      "2024-05-16 12:15:49.255210: I tensorflow/core/grappler/devices.cc:66] Number of eligible GPUs (core count >= 8, compute capability >= 0.0): 1\n",
      "2024-05-16 12:15:49.255287: I tensorflow/core/grappler/clusters/single_machine.cc:361] Starting new session\n",
      "2024-05-16 12:15:49.261738: I tensorflow/core/common_runtime/gpu/gpu_device.cc:1886] Created device /job:localhost/replica:0/task:0/device:GPU:0 with 1118 MB memory:  -> device: 0, name: NVIDIA L4, pci bus id: 0000:00:03.0, compute capability: 8.9\n",
      "2024-05-16 12:15:49.266965: I tensorflow/core/grappler/devices.cc:66] Number of eligible GPUs (core count >= 8, compute capability >= 0.0): 1\n",
      "2024-05-16 12:15:49.267035: I tensorflow/core/grappler/clusters/single_machine.cc:361] Starting new session\n",
      "2024-05-16 12:15:49.273720: I tensorflow/core/common_runtime/gpu/gpu_device.cc:1886] Created device /job:localhost/replica:0/task:0/device:GPU:0 with 1118 MB memory:  -> device: 0, name: NVIDIA L4, pci bus id: 0000:00:03.0, compute capability: 8.9\n",
      "2024-05-16 12:15:49.281596: I tensorflow/core/grappler/devices.cc:66] Number of eligible GPUs (core count >= 8, compute capability >= 0.0): 1\n",
      "2024-05-16 12:15:49.281696: I tensorflow/core/grappler/clusters/single_machine.cc:361] Starting new session\n",
      "2024-05-16 12:15:49.288334: I tensorflow/core/common_runtime/gpu/gpu_device.cc:1886] Created device /job:localhost/replica:0/task:0/device:GPU:0 with 1118 MB memory:  -> device: 0, name: NVIDIA L4, pci bus id: 0000:00:03.0, compute capability: 8.9\n",
      "2024-05-16 12:15:49.297336: I tensorflow/core/grappler/devices.cc:66] Number of eligible GPUs (core count >= 8, compute capability >= 0.0): 1\n",
      "2024-05-16 12:15:49.297421: I tensorflow/core/grappler/clusters/single_machine.cc:361] Starting new session\n",
      "2024-05-16 12:15:49.303972: I tensorflow/core/common_runtime/gpu/gpu_device.cc:1886] Created device /job:localhost/replica:0/task:0/device:GPU:0 with 1118 MB memory:  -> device: 0, name: NVIDIA L4, pci bus id: 0000:00:03.0, compute capability: 8.9\n",
      "2024-05-16 12:15:49.317910: I tensorflow/core/grappler/devices.cc:66] Number of eligible GPUs (core count >= 8, compute capability >= 0.0): 1\n",
      "2024-05-16 12:15:49.317984: I tensorflow/core/grappler/clusters/single_machine.cc:361] Starting new session\n",
      "2024-05-16 12:15:49.324936: I tensorflow/core/common_runtime/gpu/gpu_device.cc:1886] Created device /job:localhost/replica:0/task:0/device:GPU:0 with 1118 MB memory:  -> device: 0, name: NVIDIA L4, pci bus id: 0000:00:03.0, compute capability: 8.9\n"
     ]
    },
    {
     "name": "stdout",
     "output_type": "stream",
     "text": [
      "Round 1, Metrics: OrderedDict([('distributor', ()), ('client_work', OrderedDict([('train', OrderedDict([('binary_accuracy', 0.6666667), ('loss', 0.6651173), ('num_examples', 6), ('num_batches', 4)]))])), ('aggregator', OrderedDict([('mean_value', ()), ('mean_weight', ())])), ('finalizer', OrderedDict([('update_non_finite', 0)]))])\n",
      "Round 2, Metrics: OrderedDict([('distributor', ()), ('client_work', OrderedDict([('train', OrderedDict([('binary_accuracy', 0.6666667), ('loss', 0.66318184), ('num_examples', 6), ('num_batches', 4)]))])), ('aggregator', OrderedDict([('mean_value', ()), ('mean_weight', ())])), ('finalizer', OrderedDict([('update_non_finite', 0)]))])\n",
      "Round 3, Metrics: OrderedDict([('distributor', ()), ('client_work', OrderedDict([('train', OrderedDict([('binary_accuracy', 0.6666667), ('loss', 0.6612796), ('num_examples', 6), ('num_batches', 4)]))])), ('aggregator', OrderedDict([('mean_value', ()), ('mean_weight', ())])), ('finalizer', OrderedDict([('update_non_finite', 0)]))])\n",
      "Round 4, Metrics: OrderedDict([('distributor', ()), ('client_work', OrderedDict([('train', OrderedDict([('binary_accuracy', 0.6666667), ('loss', 0.65940976), ('num_examples', 6), ('num_batches', 4)]))])), ('aggregator', OrderedDict([('mean_value', ()), ('mean_weight', ())])), ('finalizer', OrderedDict([('update_non_finite', 0)]))])\n",
      "Round 5, Metrics: OrderedDict([('distributor', ()), ('client_work', OrderedDict([('train', OrderedDict([('binary_accuracy', 0.6666667), ('loss', 0.6575716), ('num_examples', 6), ('num_batches', 4)]))])), ('aggregator', OrderedDict([('mean_value', ()), ('mean_weight', ())])), ('finalizer', OrderedDict([('update_non_finite', 0)]))])\n",
      "Round 6, Metrics: OrderedDict([('distributor', ()), ('client_work', OrderedDict([('train', OrderedDict([('binary_accuracy', 0.6666667), ('loss', 0.6557645), ('num_examples', 6), ('num_batches', 4)]))])), ('aggregator', OrderedDict([('mean_value', ()), ('mean_weight', ())])), ('finalizer', OrderedDict([('update_non_finite', 0)]))])\n",
      "Round 7, Metrics: OrderedDict([('distributor', ()), ('client_work', OrderedDict([('train', OrderedDict([('binary_accuracy', 0.6666667), ('loss', 0.65398777), ('num_examples', 6), ('num_batches', 4)]))])), ('aggregator', OrderedDict([('mean_value', ()), ('mean_weight', ())])), ('finalizer', OrderedDict([('update_non_finite', 0)]))])\n",
      "Round 8, Metrics: OrderedDict([('distributor', ()), ('client_work', OrderedDict([('train', OrderedDict([('binary_accuracy', 0.6666667), ('loss', 0.6522407), ('num_examples', 6), ('num_batches', 4)]))])), ('aggregator', OrderedDict([('mean_value', ()), ('mean_weight', ())])), ('finalizer', OrderedDict([('update_non_finite', 0)]))])\n",
      "Round 9, Metrics: OrderedDict([('distributor', ()), ('client_work', OrderedDict([('train', OrderedDict([('binary_accuracy', 0.6666667), ('loss', 0.65052253), ('num_examples', 6), ('num_batches', 4)]))])), ('aggregator', OrderedDict([('mean_value', ()), ('mean_weight', ())])), ('finalizer', OrderedDict([('update_non_finite', 0)]))])\n",
      "Round 10, Metrics: OrderedDict([('distributor', ()), ('client_work', OrderedDict([('train', OrderedDict([('binary_accuracy', 0.6666667), ('loss', 0.64883286), ('num_examples', 6), ('num_batches', 4)]))])), ('aggregator', OrderedDict([('mean_value', ()), ('mean_weight', ())])), ('finalizer', OrderedDict([('update_non_finite', 0)]))])\n",
      "Round 11, Metrics: OrderedDict([('distributor', ()), ('client_work', OrderedDict([('train', OrderedDict([('binary_accuracy', 0.6666667), ('loss', 0.6471709), ('num_examples', 6), ('num_batches', 4)]))])), ('aggregator', OrderedDict([('mean_value', ()), ('mean_weight', ())])), ('finalizer', OrderedDict([('update_non_finite', 0)]))])\n",
      "Round 12, Metrics: OrderedDict([('distributor', ()), ('client_work', OrderedDict([('train', OrderedDict([('binary_accuracy', 0.6666667), ('loss', 0.6455362), ('num_examples', 6), ('num_batches', 4)]))])), ('aggregator', OrderedDict([('mean_value', ()), ('mean_weight', ())])), ('finalizer', OrderedDict([('update_non_finite', 0)]))])\n",
      "Round 13, Metrics: OrderedDict([('distributor', ()), ('client_work', OrderedDict([('train', OrderedDict([('binary_accuracy', 0.6666667), ('loss', 0.6439281), ('num_examples', 6), ('num_batches', 4)]))])), ('aggregator', OrderedDict([('mean_value', ()), ('mean_weight', ())])), ('finalizer', OrderedDict([('update_non_finite', 0)]))])\n",
      "Round 14, Metrics: OrderedDict([('distributor', ()), ('client_work', OrderedDict([('train', OrderedDict([('binary_accuracy', 0.6666667), ('loss', 0.6423463), ('num_examples', 6), ('num_batches', 4)]))])), ('aggregator', OrderedDict([('mean_value', ()), ('mean_weight', ())])), ('finalizer', OrderedDict([('update_non_finite', 0)]))])\n",
      "Round 15, Metrics: OrderedDict([('distributor', ()), ('client_work', OrderedDict([('train', OrderedDict([('binary_accuracy', 0.6666667), ('loss', 0.64079), ('num_examples', 6), ('num_batches', 4)]))])), ('aggregator', OrderedDict([('mean_value', ()), ('mean_weight', ())])), ('finalizer', OrderedDict([('update_non_finite', 0)]))])\n",
      "Round 16, Metrics: OrderedDict([('distributor', ()), ('client_work', OrderedDict([('train', OrderedDict([('binary_accuracy', 0.6666667), ('loss', 0.6392588), ('num_examples', 6), ('num_batches', 4)]))])), ('aggregator', OrderedDict([('mean_value', ()), ('mean_weight', ())])), ('finalizer', OrderedDict([('update_non_finite', 0)]))])\n",
      "Round 17, Metrics: OrderedDict([('distributor', ()), ('client_work', OrderedDict([('train', OrderedDict([('binary_accuracy', 0.6666667), ('loss', 0.6377523), ('num_examples', 6), ('num_batches', 4)]))])), ('aggregator', OrderedDict([('mean_value', ()), ('mean_weight', ())])), ('finalizer', OrderedDict([('update_non_finite', 0)]))])\n",
      "Round 18, Metrics: OrderedDict([('distributor', ()), ('client_work', OrderedDict([('train', OrderedDict([('binary_accuracy', 0.6666667), ('loss', 0.6362698), ('num_examples', 6), ('num_batches', 4)]))])), ('aggregator', OrderedDict([('mean_value', ()), ('mean_weight', ())])), ('finalizer', OrderedDict([('update_non_finite', 0)]))])\n",
      "Round 19, Metrics: OrderedDict([('distributor', ()), ('client_work', OrderedDict([('train', OrderedDict([('binary_accuracy', 0.6666667), ('loss', 0.634811), ('num_examples', 6), ('num_batches', 4)]))])), ('aggregator', OrderedDict([('mean_value', ()), ('mean_weight', ())])), ('finalizer', OrderedDict([('update_non_finite', 0)]))])\n",
      "Round 20, Metrics: OrderedDict([('distributor', ()), ('client_work', OrderedDict([('train', OrderedDict([('binary_accuracy', 0.6666667), ('loss', 0.63337547), ('num_examples', 6), ('num_batches', 4)]))])), ('aggregator', OrderedDict([('mean_value', ()), ('mean_weight', ())])), ('finalizer', OrderedDict([('update_non_finite', 0)]))])\n"
     ]
    }
   ],
   "source": [
    "# Initialize the process\n",
    "state = iterative_process.initialize()\n",
    "\n",
    "# Perform federated training\n",
    "NUM_ROUNDS = 20\n",
    "for round_num in range(NUM_ROUNDS):\n",
    "    state, metrics = iterative_process.next(state, federated_train_data)\n",
    "    print(f'Round {round_num+1}, Metrics: {metrics}')\n",
    "    "
   ]
  },
  {
   "cell_type": "code",
   "execution_count": 23,
   "id": "2164c72f-d6d9-491e-bf42-e995e676bbaa",
   "metadata": {
    "tags": []
   },
   "outputs": [
    {
     "name": "stdout",
     "output_type": "stream",
     "text": [
      "WARNING:tensorflow:Compiled the loaded model, but the compiled metrics have yet to be built. `model.compile_metrics` will be empty until you train or evaluate the model.\n"
     ]
    },
    {
     "name": "stderr",
     "output_type": "stream",
     "text": [
      "WARNING:tensorflow:Compiled the loaded model, but the compiled metrics have yet to be built. `model.compile_metrics` will be empty until you train or evaluate the model.\n"
     ]
    },
    {
     "name": "stdout",
     "output_type": "stream",
     "text": [
      "Model saved as federated_model.h5\n"
     ]
    }
   ],
   "source": [
    "# Extract the trained model weights\n",
    "keras_model = create_keras_model()\n",
    "trained_weights = iterative_process.get_model_weights(state)\n",
    "keras_model.set_weights(trained_weights.trainable)\n",
    "keras_model.save('federated_model.h5')\n",
    "print(\"Model saved as federated_model.h5\")"
   ]
  },
  {
   "cell_type": "code",
   "execution_count": null,
   "id": "acf78336-819f-4e82-95c4-0dc4b4498b88",
   "metadata": {},
   "outputs": [],
   "source": []
  }
 ],
 "metadata": {
  "environment": {
   "kernel": "conda-base-py",
   "name": "workbench-notebooks.m120",
   "type": "gcloud",
   "uri": "us-docker.pkg.dev/deeplearning-platform-release/gcr.io/workbench-notebooks:m120"
  },
  "kernelspec": {
   "display_name": "Python 3 (ipykernel)",
   "language": "python",
   "name": "conda-base-py"
  },
  "language_info": {
   "codemirror_mode": {
    "name": "ipython",
    "version": 3
   },
   "file_extension": ".py",
   "mimetype": "text/x-python",
   "name": "python",
   "nbconvert_exporter": "python",
   "pygments_lexer": "ipython3",
   "version": "3.10.14"
  }
 },
 "nbformat": 4,
 "nbformat_minor": 5
}
